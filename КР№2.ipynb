{
  "nbformat": 4,
  "nbformat_minor": 0,
  "metadata": {
    "colab": {
      "name": "КР№2.ipynb",
      "provenance": [],
      "authorship_tag": "ABX9TyNO3yfPIWLG88+/8Uqz+YrU",
      "include_colab_link": true
    },
    "kernelspec": {
      "name": "python3",
      "display_name": "Python 3"
    },
    "language_info": {
      "name": "python"
    }
  },
  "cells": [
    {
      "cell_type": "markdown",
      "metadata": {
        "id": "view-in-github",
        "colab_type": "text"
      },
      "source": [
        "<a href=\"https://colab.research.google.com/github/KatalinaE/Optimization-methods/blob/main/%D0%9A%D0%A0%E2%84%962.ipynb\" target=\"_parent\"><img src=\"https://colab.research.google.com/assets/colab-badge.svg\" alt=\"Open In Colab\"/></a>"
      ]
    },
    {
      "cell_type": "markdown",
      "source": [
        "**Задание**: заниматься мы будем разделением сигналов, то есть решать задачу Blind Source Separation. Делать мы это будем, переформулируя задачу как задачу выпуклой оптимизации. Говоря простым языком, нам надо реализовать CAMNS method (convex  analysis  of  mixtures  of  non-negative sources), который решает задачу BSS при некоторых допущениях (каких?)."
      ],
      "metadata": {
        "id": "ndtI4lFMnvcN"
      }
    }
  ]
}